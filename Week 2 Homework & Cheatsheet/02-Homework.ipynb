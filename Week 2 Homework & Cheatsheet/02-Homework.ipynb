{
 "cells": [
  {
   "cell_type": "markdown",
   "metadata": {},
   "source": [
    "# Load Data\n",
    "\n",
    "This week we will be using a dataset to predict the income of a person. The dataset is available at the UCI Machine Learning Repository and can be downloaded from the following link: [Adult Data Set](https://archive.ics.uci.edu/ml/datasets/adult). The dataset consists of 48,842 entries. Each entry contains the following information about an individual:\n",
    "\n",
    "- **age**: the age of an individual.\n",
    "\n",
    "- **workclass**: a general term to represent the employment status of an individual.\n",
    "\n",
    "- **fnlwgt**: final weight, this is the number of people the census believes the entry represents.\n",
    "\n",
    "- **education**: the highest level of education an individual has completed.\n",
    "\n",
    "- **education_num**: the highest level of education an individual has completed.\n",
    "\n",
    "- **marital_status**: marital status of an individual.\n",
    "\n",
    "- **occupation**: the general type of occupation of an individual.\n",
    "\n",
    "- **relationship**: represents what this individual is relative to others.\n",
    "\n",
    "- **race**: race of an individual.\n",
    "\n",
    "- **sex**: sex of an individual.\n",
    "\n",
    "- **capital_gain**: capital gains for an individual.\n",
    "\n",
    "- **capital_loss**: capital loss for an individual.\n",
    "\n",
    "- **hours_per_week**: the number of hours an individual works per week.\n",
    "\n",
    "- **native_country**: country of origin for an individual.\n",
    "\n",
    "- **income**: whether or not an individual makes more than 50,000 dollars annually.\n"
   ]
  },
  {
   "cell_type": "code",
   "execution_count": 2,
   "metadata": {},
   "outputs": [],
   "source": [
    "from sklearn.datasets import fetch_openml\n",
    "import ipytest\n",
    "ipytest.autoconfig()\n",
    "\n",
    "adult = fetch_openml('adult', version=2 as_frame=True)\n",
    "X = adult['data']\n",
    "y = adult['target']"
   ]
  },
  {
   "cell_type": "code",
   "execution_count": 56,
   "metadata": {},
   "outputs": [
    {
     "data": {
      "text/html": [
       "<div>\n",
       "<style scoped>\n",
       "    .dataframe tbody tr th:only-of-type {\n",
       "        vertical-align: middle;\n",
       "    }\n",
       "\n",
       "    .dataframe tbody tr th {\n",
       "        vertical-align: top;\n",
       "    }\n",
       "\n",
       "    .dataframe thead th {\n",
       "        text-align: right;\n",
       "    }\n",
       "</style>\n",
       "<table border=\"1\" class=\"dataframe\">\n",
       "  <thead>\n",
       "    <tr style=\"text-align: right;\">\n",
       "      <th></th>\n",
       "      <th>age</th>\n",
       "      <th>workclass</th>\n",
       "      <th>fnlwgt</th>\n",
       "      <th>education</th>\n",
       "      <th>education-num</th>\n",
       "      <th>marital-status</th>\n",
       "      <th>occupation</th>\n",
       "      <th>relationship</th>\n",
       "      <th>race</th>\n",
       "      <th>sex</th>\n",
       "      <th>capitalgain</th>\n",
       "      <th>capitalloss</th>\n",
       "      <th>hoursperweek</th>\n",
       "      <th>native-country</th>\n",
       "    </tr>\n",
       "  </thead>\n",
       "  <tbody>\n",
       "    <tr>\n",
       "      <th>0</th>\n",
       "      <td>2</td>\n",
       "      <td>State-gov</td>\n",
       "      <td>77516</td>\n",
       "      <td>Bachelors</td>\n",
       "      <td>13</td>\n",
       "      <td>Never-married</td>\n",
       "      <td>Adm-clerical</td>\n",
       "      <td>Not-in-family</td>\n",
       "      <td>White</td>\n",
       "      <td>Male</td>\n",
       "      <td>1</td>\n",
       "      <td>0</td>\n",
       "      <td>2</td>\n",
       "      <td>United-States</td>\n",
       "    </tr>\n",
       "    <tr>\n",
       "      <th>1</th>\n",
       "      <td>3</td>\n",
       "      <td>Self-emp-not-inc</td>\n",
       "      <td>83311</td>\n",
       "      <td>Bachelors</td>\n",
       "      <td>13</td>\n",
       "      <td>Married-civ-spouse</td>\n",
       "      <td>Exec-managerial</td>\n",
       "      <td>Husband</td>\n",
       "      <td>White</td>\n",
       "      <td>Male</td>\n",
       "      <td>0</td>\n",
       "      <td>0</td>\n",
       "      <td>0</td>\n",
       "      <td>United-States</td>\n",
       "    </tr>\n",
       "    <tr>\n",
       "      <th>2</th>\n",
       "      <td>2</td>\n",
       "      <td>Private</td>\n",
       "      <td>215646</td>\n",
       "      <td>HS-grad</td>\n",
       "      <td>9</td>\n",
       "      <td>Divorced</td>\n",
       "      <td>Handlers-cleaners</td>\n",
       "      <td>Not-in-family</td>\n",
       "      <td>White</td>\n",
       "      <td>Male</td>\n",
       "      <td>0</td>\n",
       "      <td>0</td>\n",
       "      <td>2</td>\n",
       "      <td>United-States</td>\n",
       "    </tr>\n",
       "    <tr>\n",
       "      <th>3</th>\n",
       "      <td>3</td>\n",
       "      <td>Private</td>\n",
       "      <td>234721</td>\n",
       "      <td>11th</td>\n",
       "      <td>7</td>\n",
       "      <td>Married-civ-spouse</td>\n",
       "      <td>Handlers-cleaners</td>\n",
       "      <td>Husband</td>\n",
       "      <td>Black</td>\n",
       "      <td>Male</td>\n",
       "      <td>0</td>\n",
       "      <td>0</td>\n",
       "      <td>2</td>\n",
       "      <td>United-States</td>\n",
       "    </tr>\n",
       "    <tr>\n",
       "      <th>4</th>\n",
       "      <td>1</td>\n",
       "      <td>Private</td>\n",
       "      <td>338409</td>\n",
       "      <td>Bachelors</td>\n",
       "      <td>13</td>\n",
       "      <td>Married-civ-spouse</td>\n",
       "      <td>Prof-specialty</td>\n",
       "      <td>Wife</td>\n",
       "      <td>Black</td>\n",
       "      <td>Female</td>\n",
       "      <td>0</td>\n",
       "      <td>0</td>\n",
       "      <td>2</td>\n",
       "      <td>Cuba</td>\n",
       "    </tr>\n",
       "    <tr>\n",
       "      <th>...</th>\n",
       "      <td>...</td>\n",
       "      <td>...</td>\n",
       "      <td>...</td>\n",
       "      <td>...</td>\n",
       "      <td>...</td>\n",
       "      <td>...</td>\n",
       "      <td>...</td>\n",
       "      <td>...</td>\n",
       "      <td>...</td>\n",
       "      <td>...</td>\n",
       "      <td>...</td>\n",
       "      <td>...</td>\n",
       "      <td>...</td>\n",
       "      <td>...</td>\n",
       "    </tr>\n",
       "    <tr>\n",
       "      <th>48837</th>\n",
       "      <td>2</td>\n",
       "      <td>Private</td>\n",
       "      <td>215419</td>\n",
       "      <td>Bachelors</td>\n",
       "      <td>13</td>\n",
       "      <td>Divorced</td>\n",
       "      <td>Prof-specialty</td>\n",
       "      <td>Not-in-family</td>\n",
       "      <td>White</td>\n",
       "      <td>Female</td>\n",
       "      <td>0</td>\n",
       "      <td>0</td>\n",
       "      <td>2</td>\n",
       "      <td>United-States</td>\n",
       "    </tr>\n",
       "    <tr>\n",
       "      <th>48838</th>\n",
       "      <td>4</td>\n",
       "      <td>NaN</td>\n",
       "      <td>321403</td>\n",
       "      <td>HS-grad</td>\n",
       "      <td>9</td>\n",
       "      <td>Widowed</td>\n",
       "      <td>NaN</td>\n",
       "      <td>Other-relative</td>\n",
       "      <td>Black</td>\n",
       "      <td>Male</td>\n",
       "      <td>0</td>\n",
       "      <td>0</td>\n",
       "      <td>2</td>\n",
       "      <td>United-States</td>\n",
       "    </tr>\n",
       "    <tr>\n",
       "      <th>48839</th>\n",
       "      <td>2</td>\n",
       "      <td>Private</td>\n",
       "      <td>374983</td>\n",
       "      <td>Bachelors</td>\n",
       "      <td>13</td>\n",
       "      <td>Married-civ-spouse</td>\n",
       "      <td>Prof-specialty</td>\n",
       "      <td>Husband</td>\n",
       "      <td>White</td>\n",
       "      <td>Male</td>\n",
       "      <td>0</td>\n",
       "      <td>0</td>\n",
       "      <td>3</td>\n",
       "      <td>United-States</td>\n",
       "    </tr>\n",
       "    <tr>\n",
       "      <th>48840</th>\n",
       "      <td>2</td>\n",
       "      <td>Private</td>\n",
       "      <td>83891</td>\n",
       "      <td>Bachelors</td>\n",
       "      <td>13</td>\n",
       "      <td>Divorced</td>\n",
       "      <td>Adm-clerical</td>\n",
       "      <td>Own-child</td>\n",
       "      <td>Asian-Pac-Islander</td>\n",
       "      <td>Male</td>\n",
       "      <td>2</td>\n",
       "      <td>0</td>\n",
       "      <td>2</td>\n",
       "      <td>United-States</td>\n",
       "    </tr>\n",
       "    <tr>\n",
       "      <th>48841</th>\n",
       "      <td>1</td>\n",
       "      <td>Self-emp-inc</td>\n",
       "      <td>182148</td>\n",
       "      <td>Bachelors</td>\n",
       "      <td>13</td>\n",
       "      <td>Married-civ-spouse</td>\n",
       "      <td>Exec-managerial</td>\n",
       "      <td>Husband</td>\n",
       "      <td>White</td>\n",
       "      <td>Male</td>\n",
       "      <td>0</td>\n",
       "      <td>0</td>\n",
       "      <td>3</td>\n",
       "      <td>United-States</td>\n",
       "    </tr>\n",
       "  </tbody>\n",
       "</table>\n",
       "<p>48842 rows × 14 columns</p>\n",
       "</div>"
      ],
      "text/plain": [
       "      age         workclass  fnlwgt  education  education-num  \\\n",
       "0       2         State-gov   77516  Bachelors             13   \n",
       "1       3  Self-emp-not-inc   83311  Bachelors             13   \n",
       "2       2           Private  215646    HS-grad              9   \n",
       "3       3           Private  234721       11th              7   \n",
       "4       1           Private  338409  Bachelors             13   \n",
       "...    ..               ...     ...        ...            ...   \n",
       "48837   2           Private  215419  Bachelors             13   \n",
       "48838   4               NaN  321403    HS-grad              9   \n",
       "48839   2           Private  374983  Bachelors             13   \n",
       "48840   2           Private   83891  Bachelors             13   \n",
       "48841   1      Self-emp-inc  182148  Bachelors             13   \n",
       "\n",
       "           marital-status         occupation    relationship  \\\n",
       "0           Never-married       Adm-clerical   Not-in-family   \n",
       "1      Married-civ-spouse    Exec-managerial         Husband   \n",
       "2                Divorced  Handlers-cleaners   Not-in-family   \n",
       "3      Married-civ-spouse  Handlers-cleaners         Husband   \n",
       "4      Married-civ-spouse     Prof-specialty            Wife   \n",
       "...                   ...                ...             ...   \n",
       "48837            Divorced     Prof-specialty   Not-in-family   \n",
       "48838             Widowed                NaN  Other-relative   \n",
       "48839  Married-civ-spouse     Prof-specialty         Husband   \n",
       "48840            Divorced       Adm-clerical       Own-child   \n",
       "48841  Married-civ-spouse    Exec-managerial         Husband   \n",
       "\n",
       "                     race     sex capitalgain capitalloss hoursperweek  \\\n",
       "0                   White    Male           1           0            2   \n",
       "1                   White    Male           0           0            0   \n",
       "2                   White    Male           0           0            2   \n",
       "3                   Black    Male           0           0            2   \n",
       "4                   Black  Female           0           0            2   \n",
       "...                   ...     ...         ...         ...          ...   \n",
       "48837               White  Female           0           0            2   \n",
       "48838               Black    Male           0           0            2   \n",
       "48839               White    Male           0           0            3   \n",
       "48840  Asian-Pac-Islander    Male           2           0            2   \n",
       "48841               White    Male           0           0            3   \n",
       "\n",
       "      native-country  \n",
       "0      United-States  \n",
       "1      United-States  \n",
       "2      United-States  \n",
       "3      United-States  \n",
       "4               Cuba  \n",
       "...              ...  \n",
       "48837  United-States  \n",
       "48838  United-States  \n",
       "48839  United-States  \n",
       "48840  United-States  \n",
       "48841  United-States  \n",
       "\n",
       "[48842 rows x 14 columns]"
      ]
     },
     "execution_count": 56,
     "metadata": {},
     "output_type": "execute_result"
    }
   ],
   "source": [
    "X"
   ]
  },
  {
   "cell_type": "code",
   "execution_count": null,
   "metadata": {},
   "outputs": [],
   "source": []
  },
  {
   "cell_type": "markdown",
   "metadata": {},
   "source": [
    "## Homework 1 - Split data\n",
    "\n",
    "Select the numeric features into `X_num` and split that data into training and testing sets. \n",
    "Call them `X_num_train` and `X_num_test` and (`y_num_train` and `y_num_test` for the target data)."
   ]
  },
  {
   "cell_type": "code",
   "execution_count": null,
   "metadata": {},
   "outputs": [],
   "source": []
  },
  {
   "cell_type": "code",
   "execution_count": null,
   "metadata": {},
   "outputs": [
    {
     "name": "stdout",
     "output_type": "stream",
     "text": [
      "\u001b[32m.\u001b[0m\u001b[32m.\u001b[0m\u001b[32m.\u001b[0m\u001b[32m                                                                                          [100%]\u001b[0m\n",
      "\u001b[32m\u001b[32m\u001b[1m3 passed\u001b[0m\u001b[32m in 0.01s\u001b[0m\u001b[0m\n"
     ]
    }
   ],
   "source": [
    "%%ipytest\n",
    "def test_X_num_train_X_num_test_same():\n",
    "    assert X_num_train.shape[1] == X_num_test.shape[1], \"The number of columns in X_num_train and X_num_test are not the same\"\n",
    "\n",
    "def test_X_num_train_smaller_than_X_num():\n",
    "    assert X_num_train.shape[0] < X_num.shape[0], \"X_num_train is not smaller than X_num\"\n",
    "\n",
    "def test_X_num_train_columns_less_than_X_columns():\n",
    "    assert X_num_train.shape[1] < X.shape[1], \"X_num_train has more columns than X_num\""
   ]
  },
  {
   "cell_type": "code",
   "execution_count": null,
   "metadata": {},
   "outputs": [],
   "source": []
  },
  {
   "cell_type": "code",
   "execution_count": null,
   "metadata": {},
   "outputs": [],
   "source": []
  },
  {
   "cell_type": "code",
   "execution_count": null,
   "metadata": {},
   "outputs": [],
   "source": []
  },
  {
   "cell_type": "markdown",
   "metadata": {},
   "source": [
    "## Homework 2 - Logistic Regression with Numeric Features\n",
    "\n",
    "Create a logistic regression model (name the model `lr`) to predict whether an adult will earn more than $50k a year. Use only the numeric columns in the dataset. What is the score?"
   ]
  },
  {
   "cell_type": "code",
   "execution_count": null,
   "metadata": {},
   "outputs": [],
   "source": []
  },
  {
   "cell_type": "code",
   "execution_count": 72,
   "metadata": {},
   "outputs": [
    {
     "name": "stdout",
     "output_type": "stream",
     "text": [
      "\u001b[32m.\u001b[0m\u001b[32m.\u001b[0m\u001b[32m                                                                                           [100%]\u001b[0m\n",
      "\u001b[32m\u001b[32m\u001b[1m2 passed\u001b[0m\u001b[32m in 0.16s\u001b[0m\u001b[0m\n"
     ]
    }
   ],
   "source": [
    "%%ipytest\n",
    "import pytest\n",
    "\n",
    "def test_lr_works():\n",
    "    assert lr.score(X_num_test, y_num_test) > 0.7, \"The logistic regression model does not work\"\n",
    "\n",
    "# test that it fails if you score with just X\n",
    "def test_lr_fails():\n",
    "    with pytest.raises(ValueError):\n",
    "        lr.score(X, y)\n",
    "    "
   ]
  },
  {
   "cell_type": "markdown",
   "metadata": {},
   "source": [
    "## Homework 3 - XGBoost\n",
    "\n",
    "Make an xgboost model (call it `xg`) to predict the same outcome, using the same data split. What is the score?"
   ]
  },
  {
   "cell_type": "code",
   "execution_count": null,
   "metadata": {},
   "outputs": [],
   "source": []
  },
  {
   "cell_type": "code",
   "execution_count": 75,
   "metadata": {},
   "outputs": [
    {
     "name": "stdout",
     "output_type": "stream",
     "text": [
      "\u001b[32m.\u001b[0m\u001b[32m.\u001b[0m\u001b[32m.\u001b[0m\u001b[32m                                                                                          [100%]\u001b[0m\n",
      "\u001b[32m\u001b[32m\u001b[1m3 passed\u001b[0m\u001b[32m in 0.02s\u001b[0m\u001b[0m\n"
     ]
    }
   ],
   "source": [
    "%%ipytest\n",
    "\n",
    "def test_xg_works():\n",
    "    assert xg.score(X_num_test, y_num_test == '>50K') > 0.7, \"The xgboost model does not work\"\n",
    "\n",
    "def test_xg_fails():\n",
    "    with pytest.raises(ValueError):\n",
    "        xg.score(X, y)\n",
    "\n",
    "def test_xg_is_fit():\n",
    "    assert hasattr(xg, 'classes_'), \"The xgboost model is not fitted\""
   ]
  },
  {
   "cell_type": "code",
   "execution_count": null,
   "metadata": {},
   "outputs": [],
   "source": []
  },
  {
   "cell_type": "markdown",
   "metadata": {},
   "source": [
    "## Homework 4 - Pipeline\n",
    "\n",
    "Make a categorical pipeline (called `cat_pipeline`) to fill in missing values with 'Other' and then dummy encode using a maximum of 10 categories.\n",
    "\n",
    "Remember the call `set_config(transform_output='pandas')`"
   ]
  },
  {
   "cell_type": "code",
   "execution_count": null,
   "metadata": {},
   "outputs": [],
   "source": []
  },
  {
   "cell_type": "code",
   "execution_count": 85,
   "metadata": {},
   "outputs": [
    {
     "name": "stdout",
     "output_type": "stream",
     "text": [
      "\u001b[32m.\u001b[0m\u001b[32m                                                                                            [100%]\u001b[0m\n",
      "\u001b[32m\u001b[32m\u001b[1m1 passed\u001b[0m\u001b[32m in 0.01s\u001b[0m\u001b[0m\n"
     ]
    }
   ],
   "source": [
    "%%ipytest\n",
    "import pandas as pd\n",
    "import numpy as np\n",
    "\n",
    "def test_cat_pipeline_basic():\n",
    "    data = pd.DataFrame({'a': ['a', 'b', 'c', 'd', 'e']})\n",
    "    pipe = cat_pipeline\n",
    "    res = pipe.fit_transform(data)\n",
    "    print(res)\n",
    "    assert res.shape[1] > 1, \"The number of columns is not correct\"\n",
    "\n"
   ]
  },
  {
   "cell_type": "code",
   "execution_count": null,
   "metadata": {},
   "outputs": [],
   "source": []
  },
  {
   "cell_type": "markdown",
   "metadata": {},
   "source": [
    "## Homework 5 - Logistic Regression Pipepline\n",
    "\n",
    "Create a numeric pipeline (`num_pipeline`) to standardize the numeric columns.\n",
    "\n",
    "Use a column transformer (`col_transformer`) to apply the numeric pipepline to the numeric columns and the categorical pipeline ('cat_pipeline`) to the categorical columns.\n",
    "\n",
    "Make a final pipeline (`pipeline`) that applies the column transformer and then a logistic regression model."
   ]
  },
  {
   "cell_type": "code",
   "execution_count": null,
   "metadata": {},
   "outputs": [],
   "source": []
  },
  {
   "cell_type": "code",
   "execution_count": 102,
   "metadata": {},
   "outputs": [
    {
     "name": "stdout",
     "output_type": "stream",
     "text": [
      "\u001b[32m.\u001b[0m\u001b[32m.\u001b[0m\u001b[32m.\u001b[0m\u001b[32m.\u001b[0m\u001b[32m                                                                                         [100%]\u001b[0m\n",
      "\u001b[32m\u001b[32m\u001b[1m4 passed\u001b[0m\u001b[32m in 0.66s\u001b[0m\u001b[0m\n"
     ]
    }
   ],
   "source": [
    "%%ipytest\n",
    "\n",
    "from pandas.testing import assert_frame_equal\n",
    "\n",
    "def test_num_pipeline_basic():\n",
    "    data = pd.DataFrame({'a': [1, 2, 3, 4, 5]})\n",
    "    pipe = num_pipeline\n",
    "    res = pipe.fit_transform(data)\n",
    "    print(res)\n",
    "    assert_frame_equal(res, \n",
    "        pd.DataFrame({'a': np.array([-1.41421356, -0.70710678, 0., 0.70710678, 1.41421356])})\n",
    "    )\n",
    "\n",
    "def test_cat_pipeline_basic():\n",
    "    data = pd.DataFrame({'a': ['a', 'b', 'c', 'd', 'e']})\n",
    "    pipe = cat_pipeline\n",
    "    res = pipe.fit_transform(data)\n",
    "    print(res)\n",
    "    assert_frame_equal(res,\n",
    "        pd.DataFrame({'a_b': [0, 1, 0, 0, 0], 'a_c': [0, 0, 1, 0, 0], 'a_d': [0, 0, 0, 1, 0], 'a_e': [0, 0, 0, 0, 1]},\n",
    "        dtype='float64')\n",
    "    )\n",
    "\n",
    "def test_col_transformer_basic():\n",
    "    res = col_transformer.fit_transform(X)\n",
    "    columns = res.columns\n",
    "    print(res)\n",
    "    assert len(columns) > 60\n",
    "\n",
    "def test_lr_pipeline():\n",
    "    assert pipeline.score(X, y) > .5"
   ]
  },
  {
   "cell_type": "markdown",
   "metadata": {},
   "source": [
    "## Homework 6 - XGBoost take 2\n",
    "\n",
    "Create an xgboost model (`xg2`) using all of the columns. What is the score?"
   ]
  },
  {
   "cell_type": "code",
   "execution_count": null,
   "metadata": {},
   "outputs": [],
   "source": []
  },
  {
   "cell_type": "code",
   "execution_count": 104,
   "metadata": {},
   "outputs": [
    {
     "name": "stdout",
     "output_type": "stream",
     "text": [
      "\u001b[32m.\u001b[0m\u001b[32m                                                                                            [100%]\u001b[0m\n",
      "\u001b[32m\u001b[32m\u001b[1m1 passed\u001b[0m\u001b[32m in 0.05s\u001b[0m\u001b[0m\n"
     ]
    }
   ],
   "source": [
    "%%ipytest\n",
    "\n",
    "def test_xg2_works():\n",
    "    assert xg2.score(X, y == '>50K') > 0.7, \"The xgboost model does not work\""
   ]
  },
  {
   "cell_type": "code",
   "execution_count": null,
   "metadata": {},
   "outputs": [],
   "source": []
  }
 ],
 "metadata": {
  "kernelspec": {
   "display_name": "menv",
   "language": "python",
   "name": "python3"
  },
  "language_info": {
   "codemirror_mode": {
    "name": "ipython",
    "version": 3
   },
   "file_extension": ".py",
   "mimetype": "text/x-python",
   "name": "python",
   "nbconvert_exporter": "python",
   "pygments_lexer": "ipython3",
   "version": "3.10.14"
  }
 },
 "nbformat": 4,
 "nbformat_minor": 2
}
