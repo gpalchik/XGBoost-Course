{
 "cells": [
  {
   "cell_type": "markdown",
   "id": "3e62ab93-9be6-49e3-9356-7451e016d0de",
   "metadata": {},
   "source": [
    "# Homework\n",
    "\n",
    "\n",
    "\n",
    "\n",
    "This will use ipytest to test the class. To use ipytest, you need to install\n",
    "it first. You can install it using pip:\n"
   ]
  },
  {
   "cell_type": "code",
   "execution_count": null,
   "id": "7a5ad2aa",
   "metadata": {},
   "outputs": [],
   "source": [
    "!pip install ipytest"
   ]
  },
  {
   "cell_type": "markdown",
   "id": "27fd057c",
   "metadata": {},
   "source": [
    "\n",
    "Then you need to run the `autoconfig` command to set up ipytest:\n"
   ]
  },
  {
   "cell_type": "code",
   "execution_count": 4,
   "id": "c69d5b9a",
   "metadata": {},
   "outputs": [],
   "source": [
    "import ipytest\n",
    "ipytest.autoconfig()"
   ]
  },
  {
   "cell_type": "markdown",
   "id": "12a07e73",
   "metadata": {},
   "source": [
    "Now you can just run a cell with the `ipytest` cell magic to run the tests.\n",
    "Here is some sample code we want to test:"
   ]
  },
  {
   "cell_type": "code",
   "execution_count": 1,
   "id": "e4e61dcd",
   "metadata": {},
   "outputs": [],
   "source": [
    "def add(a, b):\n",
    "    \"\"\"This function adds two numbers.\"\"\"\n",
    "    return a + b"
   ]
  },
  {
   "cell_type": "markdown",
   "id": "1b4dc334",
   "metadata": {},
   "source": [
    "Here is the test code for this function:"
   ]
  },
  {
   "cell_type": "code",
   "execution_count": 5,
   "id": "18c7acc9",
   "metadata": {},
   "outputs": [
    {
     "name": "stdout",
     "output_type": "stream",
     "text": [
      "\u001b[32m.\u001b[0m\u001b[32m.\u001b[0m\u001b[31mF\u001b[0m\u001b[31m                                                                                          [100%]\u001b[0m\n",
      "============================================= FAILURES =============================================\n",
      "\u001b[31m\u001b[1m________________________________________ test_documentation ________________________________________\u001b[0m\n",
      "\n",
      "    \u001b[94mdef\u001b[39;49;00m \u001b[92mtest_documentation\u001b[39;49;00m():\u001b[90m\u001b[39;49;00m\n",
      ">       \u001b[94massert\u001b[39;49;00m add.\u001b[91m__doc__\u001b[39;49;00m == \u001b[33m\"\u001b[39;49;00m\u001b[33mAdd two objects\u001b[39;49;00m\u001b[33m\"\u001b[39;49;00m\u001b[90m\u001b[39;49;00m\n",
      "\u001b[1m\u001b[31mE       AssertionError: assert 'This functio... two numbers.' == 'Add two objects'\u001b[0m\n",
      "\u001b[1m\u001b[31mE         - Add two objects\u001b[0m\n",
      "\u001b[1m\u001b[31mE         + This function adds two numbers.\u001b[0m\n",
      "\n",
      "\u001b[1m\u001b[31m/var/folders/qn/r8_0pgj1645dn1w69vqls6cw0000gn/T/ipykernel_30233/3117177672.py\u001b[0m:10: AssertionError\n",
      "\u001b[36m\u001b[1m===================================== short test summary info ======================================\u001b[0m\n",
      "\u001b[31mFAILED\u001b[0m t_f007e76f0ec84b6b900195f6afcb0423.py::\u001b[1mtest_documentation\u001b[0m - AssertionError: assert 'This functio... two numbers.' == 'Add two objects'\n",
      "\u001b[31m\u001b[31m\u001b[1m1 failed\u001b[0m, \u001b[32m2 passed\u001b[0m\u001b[31m in 0.06s\u001b[0m\u001b[0m\n"
     ]
    }
   ],
   "source": [
    "%%ipytest\n",
    "\n",
    "def test_add():\n",
    "    assert add(1, 2) == 3\n",
    "    assert add(0, 0) == 0\n",
    "    assert add(-1, 1) == 0\n",
    "\n",
    "def test_add_strings():\n",
    "    assert add(\"a\", \"b\") == \"ab\"\n",
    "\n",
    "def test_documentation():\n",
    "    assert add.__doc__ == \"Add two objects\""
   ]
  },
  {
   "cell_type": "markdown",
   "id": "70e6b696",
   "metadata": {},
   "source": [
    "If you have installed ipytest and run the autoconfig command, when you run the above cell, it will run the tests and show the results.\n",
    "\n",
    "```\n",
    "..F                                                                                          [100%]\n",
    "============================================= FAILURES =============================================\n",
    "________________________________________ test_documentation ________________________________________\n",
    "\n",
    "    def test_documentation():\n",
    ">       assert add.__doc__ == \"Add two objects\"\n",
    "E       AssertionError: assert 'This functio... two numbers.' == 'Add two objects'\n",
    "E         - Add two objects\n",
    "E         + This function adds two numbers.\n",
    "\n",
    "/var/folders/qn/r8_0pgj1645dn1w69vqls6cw0000gn/T/ipykernel_30233/3117177672.py:10: AssertionError\n",
    "===================================== short test summary info ======================================\n",
    "FAILED t_f007e76f0ec84b6b900195f6afcb0423.py::test_documentation - AssertionError: assert 'This functio... two numbers.' == 'Add two objects'\n",
    "1 failed, 2 passed in 0.06s\n",
    "```\n",
    "\n",
    "The two periods mean that two tests passed. The 'F' means one test failed. The output shows the failed test and the reason for the failure.\n",
    "The documentation string in the function is different from what the test expects. You can fix the function or the test to make the test pass."
   ]
  },
  {
   "cell_type": "code",
   "execution_count": null,
   "id": "62760a5c",
   "metadata": {},
   "outputs": [],
   "source": []
  },
  {
   "cell_type": "code",
   "execution_count": null,
   "id": "10647f3e",
   "metadata": {},
   "outputs": [],
   "source": []
  },
  {
   "cell_type": "markdown",
   "id": "14728931",
   "metadata": {},
   "source": [
    "# Problem 1: Log Transformer\n",
    "\n",
    "Write a class called 'LogTransformer' that inherits from BaseEstimator \n",
    "and TransformerMixin. This transformer should apply a log(x + 1) transformation \n",
    "to the input features. Include fit and transform methods.\n",
    "\n",
    "When you are done, run the cell with the tests in it."
   ]
  },
  {
   "cell_type": "code",
   "execution_count": 20,
   "id": "454020ee",
   "metadata": {},
   "outputs": [],
   "source": [
    "# put your code for LogTransformer here\n"
   ]
  },
  {
   "cell_type": "markdown",
   "id": "038de2e6",
   "metadata": {},
   "source": [
    "Run the cell below when you are done to test the class."
   ]
  },
  {
   "cell_type": "code",
   "execution_count": 22,
   "id": "59e388bf",
   "metadata": {},
   "outputs": [
    {
     "name": "stdout",
     "output_type": "stream",
     "text": [
      "\u001b[32m.\u001b[0m\u001b[32m.\u001b[0m\u001b[32m.\u001b[0m\u001b[32m.\u001b[0m\u001b[32m                                                                                         [100%]\u001b[0m\n",
      "\u001b[32m\u001b[32m\u001b[1m4 passed\u001b[0m\u001b[32m in 0.01s\u001b[0m\u001b[0m\n"
     ]
    }
   ],
   "source": [
    "%%ipytest\n",
    "import pytest\n",
    "import numpy as np\n",
    "from sklearn.base import BaseEstimator, TransformerMixin\n",
    "from sklearn.utils.validation import check_array, check_is_fitted\n",
    "from sklearn.pipeline import Pipeline\n",
    "from sklearn.preprocessing import StandardScaler\n",
    "from sklearn.linear_model import LogisticRegression\n",
    "from sklearn.datasets import make_classification\n",
    "\n",
    "\n",
    "def test_has_fit_method():\n",
    "    assert hasattr(LogTransformer, \"fit\"), \"LogTransformer should have a fit method\"\n",
    "\n",
    "def test_has_transform_method():\n",
    "    assert hasattr(LogTransformer, \"transform\"), \"LogTransformer should have a transform method\"\n",
    "\n",
    "def test_log_transformer():\n",
    "    X = np.array([[1, 10, 100], [2, 20, 200]])\n",
    "    transformer = LogTransformer()\n",
    "    X_transformed = transformer.fit_transform(X)\n",
    "    assert isinstance(transformer, BaseEstimator), \"Must inherit from BaseEstimator\"\n",
    "    assert isinstance(transformer, TransformerMixin), \"Must inherit from TransformerMixin\"\n",
    "    assert X_transformed.shape == X.shape\n",
    "    np.testing.assert_array_almost_equal(\n",
    "        X_transformed, \n",
    "        np.log1p(X)\n",
    "    )\n",
    "\n",
    "def test_works_with_pandas():\n",
    "    import pandas as pd\n",
    "    X = pd.DataFrame([[1, 10, 100], [2, 20, 200]])\n",
    "    transformer = LogTransformer()\n",
    "    X_transformed = transformer.fit_transform(X)\n",
    "    assert isinstance(X_transformed, pd.DataFrame)\n",
    "    np.testing.assert_array_almost_equal(\n",
    "        X_transformed.values, \n",
    "        np.log1p(X.values)\n",
    "    )\n"
   ]
  },
  {
   "cell_type": "code",
   "execution_count": null,
   "id": "b941fdac",
   "metadata": {},
   "outputs": [],
   "source": []
  },
  {
   "cell_type": "markdown",
   "id": "1bfb4280",
   "metadata": {},
   "source": [
    "# Problem 2: Random Column Creator\n",
    "\n",
    "Write a class called 'RandomColumnCreator' that inherits from BaseEstimator\n",
    "and TransformerMixin. This transformer should add a new column to the input\n",
    "features with random values. Include fit and transform methods. The constructor\n",
    "should take a parameter 'column_name' which is the name of the new column.\n",
    "Use the numpy function `np.random.rand` to generate the random values.\n",
    "\n",
    "When you are done, run the cell with the tests in it."
   ]
  },
  {
   "cell_type": "code",
   "execution_count": 31,
   "id": "ee159952",
   "metadata": {},
   "outputs": [],
   "source": [
    "# put your code here\n",
    "\n",
    "    "
   ]
  },
  {
   "cell_type": "code",
   "execution_count": 32,
   "id": "14fca2a4",
   "metadata": {},
   "outputs": [
    {
     "name": "stdout",
     "output_type": "stream",
     "text": [
      "\u001b[32m.\u001b[0m\u001b[32m.\u001b[0m\u001b[32m.\u001b[0m\u001b[32m                                                                                          [100%]\u001b[0m\n",
      "\u001b[32m\u001b[32m\u001b[1m3 passed\u001b[0m\u001b[32m in 0.01s\u001b[0m\u001b[0m\n"
     ]
    }
   ],
   "source": [
    "%%ipytest\n",
    "\n",
    "import pandas as pd\n",
    "\n",
    "def test_rcc_has_fit_method():\n",
    "    assert hasattr(RandomColumnCreator, \"fit\"), \"RandomColumnCreator should have a fit method\"\n",
    "\n",
    "def test_rcc_has_transform_method():\n",
    "    assert hasattr(RandomColumnCreator, \"transform\"), \"RandomColumnCreator should have a transform method\"\n",
    "\n",
    "def test_random_column_creator():\n",
    "    X = pd.DataFrame([[1, 10, 100], [2, 20, 200]])\n",
    "    rcc = RandomColumnCreator(column_name=\"random\", seed=0)\n",
    "    X_transformed = rcc.fit_transform(X)\n",
    "    assert isinstance(rcc, BaseEstimator), \"Must inherit from BaseEstimator\"\n",
    "    assert isinstance(rcc, TransformerMixin), \"Must inherit from TransformerMixin\"\n",
    "    assert X_transformed.shape[1] == X.shape[1] + 1\n",
    "    assert \"random\" in X_transformed.columns\n"
   ]
  },
  {
   "cell_type": "code",
   "execution_count": null,
   "id": "4b2d97d9",
   "metadata": {},
   "outputs": [],
   "source": []
  },
  {
   "cell_type": "code",
   "execution_count": null,
   "id": "db57be5c",
   "metadata": {},
   "outputs": [],
   "source": []
  },
  {
   "cell_type": "markdown",
   "id": "bbcf3931",
   "metadata": {},
   "source": [
    "# Problem 3: Lambdas\n",
    "\n",
    "\n",
    "## Write a lambda function called 'square' that takes a number and returns its square.\n"
   ]
  },
  {
   "cell_type": "code",
   "execution_count": 33,
   "id": "650f0902",
   "metadata": {},
   "outputs": [],
   "source": [
    "# Put your code here\n"
   ]
  },
  {
   "cell_type": "code",
   "execution_count": 34,
   "id": "c9397023",
   "metadata": {},
   "outputs": [
    {
     "name": "stdout",
     "output_type": "stream",
     "text": [
      "\u001b[32m.\u001b[0m\u001b[32m                                                                                            [100%]\u001b[0m\n",
      "\u001b[32m\u001b[32m\u001b[1m1 passed\u001b[0m\u001b[32m in 0.00s\u001b[0m\u001b[0m\n"
     ]
    }
   ],
   "source": [
    "\n",
    "%%ipytest\n",
    "def test_square():\n",
    "    assert square(5) == 25\n",
    "    assert square(-3) == 9\n",
    "    assert square(0) == 0\n"
   ]
  },
  {
   "cell_type": "markdown",
   "id": "c468ca8a",
   "metadata": {},
   "source": [
    "\n",
    "## Create a lambda function called 'is_even' that takes a number and returns True if it's even, False otherwise.\n",
    "\n"
   ]
  },
  {
   "cell_type": "code",
   "execution_count": null,
   "id": "68f1cfde",
   "metadata": {},
   "outputs": [],
   "source": [
    "# put your code here"
   ]
  },
  {
   "cell_type": "code",
   "execution_count": null,
   "id": "5fefc61a",
   "metadata": {},
   "outputs": [],
   "source": [
    "%%ipytest\n",
    "def test_is_even():\n",
    "    assert is_even(4) == True\n",
    "    assert is_even(7) == False\n",
    "    assert is_even(0) == True\n"
   ]
  },
  {
   "cell_type": "markdown",
   "id": "9f2f2620",
   "metadata": {},
   "source": [
    "\n",
    "## Write a lambda function called 'concat_strings' that takes two strings  and returns them concatenated with a space in between.\n"
   ]
  },
  {
   "cell_type": "code",
   "execution_count": 35,
   "id": "19bd4229",
   "metadata": {},
   "outputs": [],
   "source": [
    "# put your code here"
   ]
  },
  {
   "cell_type": "code",
   "execution_count": null,
   "id": "6a543e3b",
   "metadata": {},
   "outputs": [],
   "source": [
    "%%ipytest\n",
    "def test_concat_strings():\n",
    "    assert concat_strings(\"Hello\", \"World\") == \"Hello World\"\n",
    "    assert concat_strings(\"Python\", \"Lambda\") == \"Python Lambda\"\n",
    "    assert concat_strings(\"\", \"Test\") == \" Test\"\n"
   ]
  },
  {
   "cell_type": "markdown",
   "id": "da7c3f97",
   "metadata": {},
   "source": [
    "## Write a function called add_one_to_column that:\n",
    "\n",
    "Takes a pandas DataFrame df and a column name col as input.\n",
    "Returns a DataFrame where 1 is added to each element of the specified column using the pandas .assign method and a lambda function."
   ]
  },
  {
   "cell_type": "code",
   "execution_count": 56,
   "id": "cb78db8e",
   "metadata": {},
   "outputs": [],
   "source": [
    "# put your code here\n",
    "\n"
   ]
  },
  {
   "cell_type": "code",
   "execution_count": 57,
   "id": "31fc5780",
   "metadata": {},
   "outputs": [
    {
     "name": "stdout",
     "output_type": "stream",
     "text": [
      "\u001b[32m.\u001b[0m\u001b[32m.\u001b[0m\u001b[32m.\u001b[0m\u001b[32m                                                                                          [100%]\u001b[0m\n",
      "\u001b[32m\u001b[32m\u001b[1m3 passed\u001b[0m\u001b[32m in 0.01s\u001b[0m\u001b[0m\n"
     ]
    }
   ],
   "source": [
    "%%ipytest\n",
    "\n",
    "import pytest\n",
    "\n",
    "def test_add_one_to_column():\n",
    "    df = pd.DataFrame({'a': [1, 2, 3], 'b': [4, 5, 6]})\n",
    "    result = add_one_to_column(df, 'a')\n",
    "    expected = pd.DataFrame({'a': [2, 3, 4], 'b': [4, 5, 6]})\n",
    "    pd.testing.assert_frame_equal(result, expected, \"Values in column 'a' should be incremented by 1.\")\n",
    "\n",
    "def test_no_mutation():\n",
    "    df = pd.DataFrame({'a': [1, 2, 3], 'b': [4, 5, 6]})\n",
    "    result = add_one_to_column(df, 'a')\n",
    "    with pytest.raises(AssertionError):\n",
    "        pd.testing.assert_frame_equal(df, result, \"Original DataFrame should not be modified\")\n",
    "\n",
    "def test_assign_called2(monkeypatch):\n",
    "    # create a spy function to track if 'assign' is called\n",
    "    assign_called = False\n",
    "\n",
    "    def spy_assign(self, **kwargs):\n",
    "        nonlocal assign_called\n",
    "        assign_called = True\n",
    "        return self\n",
    "\n",
    "    df = pd.DataFrame({'a': [1, 2, 3], 'b': [4, 5, 6]})\n",
    "    monkeypatch.setattr(pd.DataFrame, 'assign', spy_assign)\n",
    "    \n",
    "    add_one_to_column(df, 'a')\n",
    "    \n",
    "    assert assign_called, \"pd.DataFrame.assign should have been called.\"\n",
    "\n"
   ]
  },
  {
   "cell_type": "markdown",
   "id": "7c05bcce",
   "metadata": {},
   "source": [
    "The z-score is calculated using the following formula:\n",
    "\n"
   ]
  },
  {
   "cell_type": "markdown",
   "id": "85bc89da",
   "metadata": {},
   "source": [
    "## Write a function called `zscore` that takes a dataframe and a column name as input and returns the z-score of the column. \n",
    "\n",
    "The formula for the z-score is:\n",
    "\n",
    "$$ z = \\frac{X - \\mu}{\\sigma} $$\n",
    "\n",
    "where:\n",
    "- $ z $ is the z-score\n",
    "- $ X $ is the value\n",
    "- $ \\mu $ is the mean of the population\n",
    "- $ \\sigma $ is the standard deviation of the population\n",
    "\n"
   ]
  },
  {
   "cell_type": "code",
   "execution_count": 59,
   "id": "6ac98b4d",
   "metadata": {},
   "outputs": [],
   "source": [
    "# write your code here\n",
    "\n"
   ]
  },
  {
   "cell_type": "code",
   "execution_count": 63,
   "id": "00797903",
   "metadata": {},
   "outputs": [
    {
     "name": "stdout",
     "output_type": "stream",
     "text": [
      "\u001b[32m.\u001b[0m\u001b[32m                                                                                            [100%]\u001b[0m\n",
      "\u001b[32m\u001b[32m\u001b[1m1 passed\u001b[0m\u001b[32m in 0.01s\u001b[0m\u001b[0m\n"
     ]
    }
   ],
   "source": [
    "%%ipytest\n",
    "\n",
    "def test_zscore():\n",
    "    df = pd.DataFrame({'a': [1, 2, 3, 4, 5]})\n",
    "    result = zscore(df, 'a')\n",
    "    print(result)\n",
    "    expected = pd.Series([-1.2649110640673518, -0.6324555320336759, 0.0, 0.6324555320336759, 1.2649110640673518],\n",
    "                         name='a')\n",
    "    pd.testing.assert_series_equal(result, expected, \"Z-score should be calculated correctly\")\n"
   ]
  },
  {
   "cell_type": "code",
   "execution_count": null,
   "id": "3bdf6030",
   "metadata": {},
   "outputs": [],
   "source": []
  },
  {
   "cell_type": "code",
   "execution_count": null,
   "id": "26e930ac",
   "metadata": {},
   "outputs": [],
   "source": []
  },
  {
   "cell_type": "markdown",
   "id": "06a33e09",
   "metadata": {},
   "source": [
    "## Write a function add_zscore_to_city\n",
    "\n",
    "Write a function called `add_zscore_to_city` that takes a pandas DataFrame df as input and returns a DataFrame where a new column called 'city_zscore' is added. \n",
    "\n",
    "\n",
    "When you are done, run the cell with the tests in it."
   ]
  },
  {
   "cell_type": "code",
   "execution_count": 98,
   "id": "1d94154a",
   "metadata": {},
   "outputs": [],
   "source": [
    "# put your code here"
   ]
  },
  {
   "cell_type": "code",
   "execution_count": 72,
   "id": "b6676875",
   "metadata": {},
   "outputs": [
    {
     "name": "stdout",
     "output_type": "stream",
     "text": [
      "\u001b[32m.\u001b[0m\u001b[32m                                                                                            [100%]\u001b[0m\n",
      "\u001b[32m\u001b[32m\u001b[1m1 passed\u001b[0m\u001b[32m in 0.75s\u001b[0m\u001b[0m\n"
     ]
    }
   ],
   "source": [
    "%%ipytest\n",
    "import pandas as pd\n",
    "import pytest\n",
    "\n",
    "@pytest.fixture\n",
    "def df():\n",
    "    url = 'https://github.com/mattharrison/datasets/raw/master/data/vehicles.csv.zip'\n",
    "    raw_data = pd.read_csv(url, dtype_backend='pyarrow')\n",
    "    return raw_data\n",
    "\n",
    "def test_add_zscore_column(df):\n",
    "    result = add_zscore_column(df)\n",
    "    assert 'city_zscore' in result.columns\n",
    "    "
   ]
  },
  {
   "cell_type": "code",
   "execution_count": null,
   "id": "e565866d",
   "metadata": {},
   "outputs": [],
   "source": []
  },
  {
   "cell_type": "code",
   "execution_count": null,
   "id": "6ea75434",
   "metadata": {},
   "outputs": [],
   "source": []
  },
  {
   "cell_type": "markdown",
   "id": "53b173ad",
   "metadata": {},
   "source": [
    "## Grouping, iloc, and assign\n",
    "\n",
    "Write a function called `ford_city_zscore` that:\n",
    "\n",
    "- Takes a pandas DataFrame df as input.\n",
    "- Filters the DataFrame to include only rows where the 'make' column is 'Ford'.\n",
    "- Groups the DataFrame by the 'year' column.\n",
    "- Calculates the mean of the 'city08' column for each group.\n",
    "- Create a new column `city_zscore` with the z-score of the aggregated 'city08' column.\n",
    "- Returns rows where the z-score is greater than 1. (using loc)\n",
    "\n",
    "When you are done, run the cell with the tests in it.\n",
    "\n"
   ]
  },
  {
   "cell_type": "code",
   "execution_count": 99,
   "id": "005034d8",
   "metadata": {},
   "outputs": [],
   "source": [
    "# put your code here\n"
   ]
  },
  {
   "cell_type": "code",
   "execution_count": 81,
   "id": "b6bbad69",
   "metadata": {},
   "outputs": [
    {
     "data": {
      "text/html": [
       "<div>\n",
       "<style scoped>\n",
       "    .dataframe tbody tr th:only-of-type {\n",
       "        vertical-align: middle;\n",
       "    }\n",
       "\n",
       "    .dataframe tbody tr th {\n",
       "        vertical-align: top;\n",
       "    }\n",
       "\n",
       "    .dataframe thead th {\n",
       "        text-align: right;\n",
       "    }\n",
       "</style>\n",
       "<table border=\"1\" class=\"dataframe\">\n",
       "  <thead>\n",
       "    <tr style=\"text-align: right;\">\n",
       "      <th></th>\n",
       "      <th>city08</th>\n",
       "      <th>city_zscore</th>\n",
       "    </tr>\n",
       "    <tr>\n",
       "      <th>year</th>\n",
       "      <th></th>\n",
       "      <th></th>\n",
       "    </tr>\n",
       "  </thead>\n",
       "  <tbody>\n",
       "    <tr>\n",
       "      <th>2012</th>\n",
       "      <td>20.089744</td>\n",
       "      <td>1.262842</td>\n",
       "    </tr>\n",
       "    <tr>\n",
       "      <th>2013</th>\n",
       "      <td>20.710843</td>\n",
       "      <td>1.539876</td>\n",
       "    </tr>\n",
       "    <tr>\n",
       "      <th>2014</th>\n",
       "      <td>20.827586</td>\n",
       "      <td>1.591948</td>\n",
       "    </tr>\n",
       "    <tr>\n",
       "      <th>2015</th>\n",
       "      <td>22.350649</td>\n",
       "      <td>2.271291</td>\n",
       "    </tr>\n",
       "    <tr>\n",
       "      <th>2016</th>\n",
       "      <td>21.465909</td>\n",
       "      <td>1.876664</td>\n",
       "    </tr>\n",
       "    <tr>\n",
       "      <th>2017</th>\n",
       "      <td>20.848485</td>\n",
       "      <td>1.601269</td>\n",
       "    </tr>\n",
       "    <tr>\n",
       "      <th>2018</th>\n",
       "      <td>20.345455</td>\n",
       "      <td>1.376899</td>\n",
       "    </tr>\n",
       "    <tr>\n",
       "      <th>2019</th>\n",
       "      <td>19.742268</td>\n",
       "      <td>1.107855</td>\n",
       "    </tr>\n",
       "    <tr>\n",
       "      <th>2020</th>\n",
       "      <td>21.888889</td>\n",
       "      <td>2.065328</td>\n",
       "    </tr>\n",
       "  </tbody>\n",
       "</table>\n",
       "</div>"
      ],
      "text/plain": [
       "         city08  city_zscore\n",
       "year                        \n",
       "2012  20.089744     1.262842\n",
       "2013  20.710843     1.539876\n",
       "2014  20.827586     1.591948\n",
       "2015  22.350649     2.271291\n",
       "2016  21.465909     1.876664\n",
       "2017  20.848485     1.601269\n",
       "2018  20.345455     1.376899\n",
       "2019  19.742268     1.107855\n",
       "2020  21.888889     2.065328"
      ]
     },
     "metadata": {},
     "output_type": "display_data"
    },
    {
     "name": "stdout",
     "output_type": "stream",
     "text": [
      "\u001b[32m.\u001b[0m\u001b[32m                                                                                            [100%]\u001b[0m\n",
      "\u001b[32m\u001b[32m\u001b[1m1 passed\u001b[0m\u001b[32m in 0.95s\u001b[0m\u001b[0m\n"
     ]
    }
   ],
   "source": [
    "%%ipytest\n",
    "\n",
    "import pandas as pd\n",
    "import pytest\n",
    "\n",
    "@pytest.fixture\n",
    "def df():\n",
    "    url = 'https://github.com/mattharrison/datasets/raw/master/data/vehicles.csv.zip'\n",
    "    raw_data = pd.read_csv(url, dtype_backend='pyarrow')\n",
    "    return raw_data\n",
    "\n",
    "def test_ford_city_zscore(df):\n",
    "    result = ford_city_zscore(df)\n",
    "    display(result)\n",
    "    assert result.shape[0] > 0\n",
    "    assert 'city_zscore' in result.columns\n",
    "    assert result['city_zscore'].min() > 1\n"
   ]
  },
  {
   "cell_type": "code",
   "execution_count": null,
   "id": "fc82b2b1",
   "metadata": {},
   "outputs": [],
   "source": []
  },
  {
   "cell_type": "markdown",
   "id": "d528763b",
   "metadata": {},
   "source": [
    "## Square all number\n",
    "\n",
    "Write a function called `square_all_numbers` that:\n",
    "\n",
    "- Uses `.assign` and a dictionary comprehension to create a new column for each numeric column in the DataFrame.\n",
    "- The new column should be the square of the original column.\n",
    "- The new column should be called 'NUM_COL_squared' where 'NUM_COL' is the name of the original column.\n",
    "- Hint: Use `.select_dtypes` to select only numeric columns.\n",
    "\n",
    "When you are done, run the cell with the tests in it"
   ]
  },
  {
   "cell_type": "code",
   "execution_count": 100,
   "id": "81842e12",
   "metadata": {},
   "outputs": [],
   "source": [
    "# put your code here\n"
   ]
  },
  {
   "cell_type": "code",
   "execution_count": 93,
   "id": "0d407bf3",
   "metadata": {},
   "outputs": [
    {
     "name": "stdout",
     "output_type": "stream",
     "text": [
      "\u001b[32m.\u001b[0m\u001b[32m                                                                                            [100%]\u001b[0m\n",
      "\u001b[32m\u001b[32m\u001b[1m1 passed\u001b[0m\u001b[32m in 0.81s\u001b[0m\u001b[0m\n"
     ]
    }
   ],
   "source": [
    "%%ipytest\n",
    "\n",
    "import pandas as pd\n",
    "import pytest\n",
    "\n",
    "@pytest.fixture\n",
    "def df():\n",
    "    url = 'https://github.com/mattharrison/datasets/raw/master/data/vehicles.csv.zip'\n",
    "    raw_data = pd.read_csv(url, dtype_backend='pyarrow')\n",
    "    return raw_data\n",
    "\n",
    "def test_square_all_numbers(df):\n",
    "    result = square_all_numbers(df)\n",
    "    int_squared = (df.select_dtypes(int) ** 2).rename(columns=lambda x: f'{x}_squared')\n",
    "    int_cols = int_squared.columns\n",
    "    pd.testing.assert_frame_equal(result[int_cols], int_squared, check_dtype=False, check_names=False)\n",
    "    "
   ]
  },
  {
   "cell_type": "code",
   "execution_count": null,
   "id": "69ab4136",
   "metadata": {},
   "outputs": [],
   "source": []
  },
  {
   "cell_type": "markdown",
   "id": "8eb78aea",
   "metadata": {},
   "source": [
    "# Plotting"
   ]
  },
  {
   "cell_type": "code",
   "execution_count": 94,
   "id": "f3716fc8",
   "metadata": {},
   "outputs": [],
   "source": [
    "import pandas as pd\n",
    "url = 'https://github.com/mattharrison/datasets/raw/master/data/vehicles.csv.zip'\n",
    "raw_data = pd.read_csv(url, dtype_backend='pyarrow')"
   ]
  },
  {
   "cell_type": "markdown",
   "id": "a91582c0",
   "metadata": {},
   "source": [
    "## Scatter Plot\n",
    "\n",
    "Plot a scatter plot of the 'city08' column against the 'highway08' column in the DataFrame."
   ]
  },
  {
   "cell_type": "markdown",
   "id": "498678dd",
   "metadata": {},
   "source": [
    "Plot a scatter plot of 'barrerl08' against 'city08' in the DataFrame."
   ]
  },
  {
   "cell_type": "markdown",
   "id": "2e9e5df8",
   "metadata": {},
   "source": [
    "## Histogram"
   ]
  },
  {
   "cell_type": "markdown",
   "id": "657624b4",
   "metadata": {},
   "source": [
    "Plot the distribution of the 'city08' column using a histogram.\n"
   ]
  },
  {
   "cell_type": "markdown",
   "id": "013b723b",
   "metadata": {},
   "source": [
    "\n",
    "Plot the distribution of the average of 'city08' by 'make' using a histogram.\n"
   ]
  },
  {
   "cell_type": "markdown",
   "id": "7cc2fc9e",
   "metadata": {},
   "source": [
    "\n",
    "Plot the distribution of the 'barrels08' column using a histogram."
   ]
  },
  {
   "cell_type": "markdown",
   "id": "8138ab04",
   "metadata": {},
   "source": [
    "## Bar Plot\n",
    "\n",
    "Plot the average of 'city08' by 'make' using a bar plot.\n"
   ]
  },
  {
   "cell_type": "markdown",
   "id": "dff5b2f4",
   "metadata": {},
   "source": [
    "\n",
    "Plot the count of 'make' using a bar plot.\n"
   ]
  },
  {
   "cell_type": "markdown",
   "id": "358ac1de",
   "metadata": {},
   "source": [
    "\n",
    "Plot the mean 'city08' by 'year' using a bar plot."
   ]
  },
  {
   "cell_type": "markdown",
   "id": "3b59de86",
   "metadata": {},
   "source": [
    "## Line Plot\n",
    "\n",
    "Plot the mean 'city08' by 'year' for 'make' equal to 'Ford' or 'Chevrolet' using a line plot.\n",
    "\n",
    "Plot the maximum 'city08' by 'year' for 'make' equal to 'Ford' or 'Chevrolet' using a line plot.\n",
    "\n",
    "Plot the minimum 'city08' by 'year' for 'make' equal to 'Ford' or 'Chevrolet' using a line plot."
   ]
  },
  {
   "cell_type": "code",
   "execution_count": null,
   "id": "6119307f",
   "metadata": {},
   "outputs": [],
   "source": []
  },
  {
   "cell_type": "code",
   "execution_count": null,
   "id": "43c10c41",
   "metadata": {},
   "outputs": [],
   "source": []
  },
  {
   "cell_type": "code",
   "execution_count": null,
   "id": "75770a96",
   "metadata": {},
   "outputs": [],
   "source": []
  },
  {
   "cell_type": "markdown",
   "id": "17bd24e8",
   "metadata": {},
   "source": [
    "### Misc"
   ]
  },
  {
   "cell_type": "code",
   "execution_count": 97,
   "id": "30d63a6b",
   "metadata": {},
   "outputs": [],
   "source": [
    "def strip_color_code(s):\n",
    "    \"\"\" remove color codes from a string\n",
    "\u001b[31m\u001b[1m________________________________________ test_documentation ________________________________________\u001b[0m\n",
    "\n",
    "should be ________________________________________ test_documentation ________________________________________\"\"\"\n",
    "    # use regular expression to remove color codes\n",
    "    import re\n",
    "    return re.sub(r'\\x1b\\[[0-9;]*m', '', s)\n",
    "\n",
    "\n"
   ]
  }
 ],
 "metadata": {
  "kernelspec": {
   "display_name": "Python 3 (ipykernel)",
   "language": "python",
   "name": "python3"
  },
  "language_info": {
   "codemirror_mode": {
    "name": "ipython",
    "version": 3
   },
   "file_extension": ".py",
   "mimetype": "text/x-python",
   "name": "python",
   "nbconvert_exporter": "python",
   "pygments_lexer": "ipython3",
   "version": "3.10.14"
  }
 },
 "nbformat": 4,
 "nbformat_minor": 5
}
